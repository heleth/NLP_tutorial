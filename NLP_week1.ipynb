{
 "cells": [
  {
   "cell_type": "markdown",
   "metadata": {},
   "source": [
    "# 自然言語処理100本ノック\n",
    "\n",
    "* 問題：http://www.cl.ecei.tohoku.ac.jp/nlp100/\n",
    "* 進捗\n",
    "    - colaboratoryとの共有：1章まで\n",
    "\n",
    "## week 1"
   ]
  },
  {
   "cell_type": "code",
   "execution_count": 1,
   "metadata": {},
   "outputs": [],
   "source": [
    "## 1\n",
    "str1 = 'stressed'[::-1]\n",
    "\n",
    "## 2\n",
    "str1 = 'パタトクカシー'\n",
    "str1 = str1[::2]\n",
    "\n",
    "## 3\n",
    "str1 = \"Now I need a drink, alcoholic of course, after the heavy lectures involving quantum mechanics.\"\n",
    "list1 = str1.split(' ')\n",
    "list2 = [len(x) for x in list1]\n",
    "\n",
    "# -- model answer\n",
    "import re\n",
    "s = 'Now I need a drink, alcoholic of course, after the heavy lectures involving quantum mechanics.'\n",
    "s_sub = re.sub('(?<=\\D)[.,]', '', s)\n",
    "list(map(len, s_sub.split(' ')))\n",
    "\n",
    "## 4\n",
    "str1 = \"Hi He Lied Because Boron Could Not Oxidize Fluorine. New Nations Might Also Sign Peace Security Clause. Arthur King Can.\"\n",
    "list1 = [1, 5, 6, 7, 8, 9, 15, 16, 19]\n",
    "list2 = [x[0:1] if (i+1 in list1) else x[0:2] for i, x in enumerate(str1.split(' '))]"
   ]
  },
  {
   "cell_type": "code",
   "execution_count": 2,
   "metadata": {},
   "outputs": [
    {
     "data": {
      "text/plain": [
       "[['I', 'a'],\n",
       " ['a', 'm'],\n",
       " ['m', 'a'],\n",
       " ['a', 'n'],\n",
       " ['n', 'N'],\n",
       " ['N', 'L'],\n",
       " ['L', 'P'],\n",
       " ['P', 'e'],\n",
       " ['e', 'r']]"
      ]
     },
     "execution_count": 2,
     "metadata": {},
     "output_type": "execute_result"
    }
   ],
   "source": [
    "## 5\n",
    "\n",
    "str1 = \"I am an NLPer\"\n",
    "\n",
    "# -- (1) word bigram\n",
    "def get_word_bigram(str_i):\n",
    "    list1 = str_i.split()\n",
    "    return [[list1[i], list1[i+1]] for i in range(len(list1)-1)]\n",
    "\n",
    "# -- (2) letter bigram\n",
    "def get_letter_bigram(str_i):\n",
    "    list1 = [c for c in str_i if c != ' ']\n",
    "    return [[list1[i], list1[i+1]] for i in range(len(list1)-1)]\n",
    "\n",
    "get_word_bigram(str1)\n",
    "get_letter_bigram(str1)"
   ]
  },
  {
   "cell_type": "code",
   "execution_count": 5,
   "metadata": {},
   "outputs": [
    {
     "name": "stdout",
     "output_type": "stream",
     "text": [
      "'se' in X: True\n",
      "'se' in Y: False\n"
     ]
    }
   ],
   "source": [
    "## 6\n",
    "# -- set(iterable)はlistを引数に取れないが、tupleなら取れる。そしてtuple(x) for x in list1も取れる。\n",
    "from functools import reduce\n",
    "from operator import mul\n",
    "\n",
    "X = get_letter_bigram(\"paraparaparadise\")\n",
    "Y = get_letter_bigram(\"paragraph\")\n",
    "\n",
    "X = set(tuple(x) for x in X)  # unique化\n",
    "Y = set(tuple(x) for x in Y)  # unique化\n",
    "\n",
    "X_or_Y = X|Y\n",
    "X_and_Y = X&Y\n",
    "X_notIn_Y = X-Y\n",
    "Y_notIn_X = Y-X\n",
    "print(\"'se' in X:\", ('s', 'e') in X)\n",
    "print(\"'se' in Y:\", ('s', 'e') in Y)"
   ]
  },
  {
   "cell_type": "code",
   "execution_count": 30,
   "metadata": {},
   "outputs": [
    {
     "name": "stdout",
     "output_type": "stream",
     "text": [
      "listX : <class 'list'>\n",
      "['pa', 'ar', 'ra', 'ap', 'pa', 'ar', 'ra', 'ap', 'pa', 'ar', 'ra', 'ad', 'di', 'is', 'se']\n",
      "\n",
      "listY : <class 'list'>\n",
      "[['p', 'a'], ['a', 'r'], ['r', 'a'], ['a', 'p'], ['p', 'a'], ['a', 'r'], ['r', 'a'], ['a', 'p'], ['p', 'a'], ['a', 'r'], ['r', 'a'], ['a', 'd'], ['d', 'i'], ['i', 's'], ['s', 'e']]\n"
     ]
    }
   ],
   "source": [
    "## 6 ハマりポイント\n",
    "\n",
    "# -- set(list)は通る\n",
    "listX = f05(\"paraparaparadise\",2)\n",
    "print('{0} : {1}'.format('listX', type(listX)))\n",
    "print(listX)\n",
    "setY= set(listX)\n",
    "\n",
    "# -- set(list of list)は通らない\n",
    "# --   \"listはhashableではありません\"というエラーメッセージが返ってくるために混乱した\n",
    "def get_letter_bigram(str_i):\n",
    "    list1 = [c for c in str_i if c != ' ']\n",
    "    return [[list1[i], list1[i+1]] for i in range(len(list1)-1)]\n",
    "listY = get_letter_bigram(\"paraparaparadise\")\n",
    "print('\\n{0} : {1}'.format('listY', type(listY)))\n",
    "print(listY)\n",
    "# setY = set(listY)  # FAIL\n",
    "\n"
   ]
  },
  {
   "cell_type": "code",
   "execution_count": 135,
   "metadata": {},
   "outputs": [
    {
     "data": {
      "text/plain": [
       "'12時の気温は22.4'"
      ]
     },
     "execution_count": 135,
     "metadata": {},
     "output_type": "execute_result"
    }
   ],
   "source": [
    "## 7\n",
    "def f1(i_i, str_i, f_i):\n",
    "    return '{}時の{}は{}'.format(i_i, str_i, f_i)\n",
    "\n",
    "f1(12, '気温', 22.4)"
   ]
  },
  {
   "cell_type": "code",
   "execution_count": 168,
   "metadata": {},
   "outputs": [
    {
     "name": "stdout",
     "output_type": "stream",
     "text": [
      "123ひらがなカタカナ日本語zokszyvgALPHABET(*/1?)\n",
      "123ひらがなカタカナ日本語alphabetALPHABET(*/1?)\n"
     ]
    }
   ],
   "source": [
    "## 8\n",
    "def cipher(str_i):\n",
    "    return ''.join([chr(219-ord(c)) if (ord(c)>=97 and ord(c)<=122) else c  for c in list(str_i)])\n",
    "\n",
    "print(cipher('123ひらがなカタカナ日本語alphabetALPHABET(*/1?)'))\n",
    "print(cipher(cipher('123ひらがなカタカナ日本語alphabetALPHABET(*/1?)')))"
   ]
  },
  {
   "cell_type": "code",
   "execution_count": 227,
   "metadata": {},
   "outputs": [
    {
     "data": {
      "text/plain": [
       "'Tdaoy , I wnnaa eat fesrh meat and lots of vtagebeels for dnienr .'"
      ]
     },
     "execution_count": 227,
     "metadata": {},
     "output_type": "execute_result"
    }
   ],
   "source": [
    "## 9\n",
    "random.seed(0)\n",
    "\n",
    "def get_typoglycemia(str_i):\n",
    "    list1 = str_i.split(' ')\n",
    "    list2 = [s[0]+''.join(random.sample(list(s[1:len(s)-1]), len(s)-2))+s[len(s)-1] if len(s)>=5 else s for s in list1]\n",
    "    return ' '.join(list2)\n",
    "    \n",
    "get_typoglycemia('Today , I wanna eat fresh meat and lots of vegetables for dinner .')"
   ]
  },
  {
   "cell_type": "code",
   "execution_count": 260,
   "metadata": {},
   "outputs": [
    {
     "name": "stdout",
     "output_type": "stream",
     "text": [
      "24\n",
      "24 hightemp.txt\r\n"
     ]
    }
   ],
   "source": [
    "## 10\n",
    "# -- python\n",
    "f = open('hightemp.txt', 'r')\n",
    "n_row = len(f.readlines())\n",
    "f.close()\n",
    "print(n_row)\n",
    "\n",
    "# -- unix\n",
    "!wc -l hightemp.txt"
   ]
  },
  {
   "cell_type": "code",
   "execution_count": 280,
   "metadata": {},
   "outputs": [],
   "source": [
    "## 11\n",
    "# -- python\n",
    "fi = open('hightemp.txt', 'r')\n",
    "str1 = fi.read()\n",
    "str2 = str1.replace('\\t', ' ')\n",
    "fo = open('hightemp_edited_python.txt', 'w')\n",
    "fo.write(str2)\n",
    "fi.close()\n",
    "fo.close()\n",
    "\n",
    "# -- unix\n",
    "!cat hightemp.txt | sed -e $'s/\\t/ /g' > hightemp_edited_unix.txt\n",
    "# -- $ is necessary to make '\\t' recognized as tab by bash\n",
    "!diff hightemp_edited_python.txt hightemp_edited_unix.txt"
   ]
  },
  {
   "cell_type": "code",
   "execution_count": 14,
   "metadata": {
    "scrolled": true
   },
   "outputs": [],
   "source": [
    "## 12\n",
    "# -- python\n",
    "with open ('col1_py.txt', 'w') as fo1:\n",
    "    with open ('col2_py.txt', 'w') as fo2:\n",
    "        with open('hightemp.txt', 'r') as fi:  # (default mode for `open` is \"r\")\n",
    "            for line in fi:\n",
    "                fo1.write(line.split('\\t')[0]+\"\\n\")\n",
    "                fo2.write(line.split('\\t')[1]+\"\\n\")\n",
    "        \n",
    "#!echo \" -- col1.txt -- \" && cat col1_py.txt\n",
    "#!echo \"-- col2.txt -- \" && cat col2_py.txt\n",
    "\n",
    "# -- unix\n",
    "!cut -f 1 hightemp.txt > col1_un.txt\n",
    "!cut -f 2 hightemp.txt > col2_un.txt\n",
    "!diff col1_py.txt col1_un.txt"
   ]
  },
  {
   "cell_type": "code",
   "execution_count": 37,
   "metadata": {},
   "outputs": [],
   "source": [
    "## 13\n",
    "# -- python\n",
    "with open ('col1_py.txt') as fi1:\n",
    "    with open ('col2_py.txt') as fi2:\n",
    "        with open ('merged_py.txt', 'w') as fo:\n",
    "            lines1 = fi1.readlines()\n",
    "            lines2 = fi2.readlines()\n",
    "            for i in range(max(lines1.__len__(), lines2.__len__())):\n",
    "                fo.write(lines1[i].replace('\\n', '')+'\\t'+lines2[i].replace('\\n', '')+'\\n')\n",
    "\n",
    "#!cat merged_py.txt\n",
    "\n",
    "# -- unix\n",
    "!paste col1_un.txt col2_un.txt > merged_un.txt\n",
    "!diff merged_py.txt merged_un.txt"
   ]
  },
  {
   "cell_type": "code",
   "execution_count": 62,
   "metadata": {},
   "outputs": [
    {
     "name": "stdout",
     "output_type": "stream",
     "text": [
      "高知県\t江川崎\t41\t2013-08-12\n",
      "埼玉県\t熊谷\t40.9\t2007-08-16\n",
      "岐阜県\t多治見\t40.9\t2007-08-16\n",
      "高知県\t江川崎\t41\t2013-08-12\r\n",
      "埼玉県\t熊谷\t40.9\t2007-08-16\r\n",
      "岐阜県\t多治見\t40.9\t2007-08-16\r\n"
     ]
    }
   ],
   "source": [
    "## 14\n",
    "# -- python\n",
    "import fileinput\n",
    "\n",
    "def head(n_i, filename_i):\n",
    "    with open(filename_i) as fi:\n",
    "        print(''.join(fi.readlines()[:n_i]), end='')\n",
    "\n",
    "head(3, 'hightemp.txt')\n",
    "\n",
    "# -- unix\n",
    "!head -n 3 < hightemp.txt"
   ]
  },
  {
   "cell_type": "code",
   "execution_count": 64,
   "metadata": {
    "scrolled": true
   },
   "outputs": [
    {
     "name": "stdout",
     "output_type": "stream",
     "text": [
      "山梨県\t大月\t39.9\t1990-07-19\n",
      "山形県\t鶴岡\t39.9\t1978-08-03\n",
      "愛知県\t名古屋\t39.9\t1942-08-02\n",
      "山梨県\t大月\t39.9\t1990-07-19\r\n",
      "山形県\t鶴岡\t39.9\t1978-08-03\r\n",
      "愛知県\t名古屋\t39.9\t1942-08-02\r\n"
     ]
    }
   ],
   "source": [
    "## 15\n",
    "# -- python\n",
    "import fileinput\n",
    "\n",
    "def tail(n_i, filename_i):\n",
    "    with open(filename_i) as fi:\n",
    "        print(''.join(fi.readlines()[-3:]), end='')\n",
    "\n",
    "tail(3, 'hightemp.txt')\n",
    "\n",
    "# -- unix\n",
    "!tail -n 3 < hightemp.txt"
   ]
  },
  {
   "cell_type": "code",
   "execution_count": 33,
   "metadata": {
    "scrolled": true
   },
   "outputs": [],
   "source": [
    "## 16\n",
    "# -- python\n",
    "import math\n",
    "\n",
    "def split_file(n_i, filename_i):\n",
    "    with open(filename_i) as fi:\n",
    "        lines = fi.readlines()\n",
    "        n_written_line = 0\n",
    "        for i in range(n_i):\n",
    "            with open(filename_i[:-4]+'_split_'+str(i)+'_py'+filename_i[-4:], 'w') as fo: \n",
    "                for j in range(math.ceil(len(lines)/n_i)):\n",
    "                    if n_written_line >= len(lines):\n",
    "                            break\n",
    "                    else:\n",
    "                        fo.write(lines[i])\n",
    "                        i = i + 1                \n",
    "\n",
    "split_file(3, 'hightemp.txt')\n",
    "\n",
    "# -- unix\n",
    "# ---- Mac OS: gnu split command is callable by \"gsplit\" (\"split\" names BSD split command which doesn't have \"-n\" option)\n",
    "# ---- gsplit -n: split file number \n",
    "!gsplit -n 3 -d --additional-suffix=_un.txt hightemp.txt hightemp_split_"
   ]
  },
  {
   "cell_type": "code",
   "execution_count": null,
   "metadata": {},
   "outputs": [],
   "source": [
    "## 17 【WIP】\n",
    "# -- python\n",
    "\n",
    "# -- unix"
   ]
  },
  {
   "cell_type": "code",
   "execution_count": 28,
   "metadata": {},
   "outputs": [
    {
     "name": "stdout",
     "output_type": "stream",
     "text": [
      "['高知県\\t江川崎\\t41\\t2013-08-12\\n', '埼玉県\\t熊谷\\t40.9\\t2007-08-16\\n', '岐阜県\\t多治見\\t40.9\\t2007-08-16\\n', '山形県\\t山形\\t40.8\\t1933-07-25\\n', '山梨県\\t甲府\\t40.7\\t2013-08-10\\n', '和歌山県\\tかつらぎ\\t40.6\\t1994-08-08\\n', '静岡県\\t天竜\\t40.6\\t1994-08-04\\n', '山梨県\\t勝沼\\t40.5\\t2013-08-10\\n', '埼玉県\\t越谷\\t40.4\\t2007-08-16\\n', '群馬県\\t館林\\t40.3\\t2007-08-16\\n', '群馬県\\t上里見\\t40.3\\t1998-07-04\\n', '愛知県\\t愛西\\t40.3\\t1994-08-05\\n', '千葉県\\t牛久\\t40.2\\t2004-07-20\\n', '静岡県\\t佐久間\\t40.2\\t2001-07-24\\n', '愛媛県\\t宇和島\\t40.2\\t1927-07-22\\n', '山形県\\t酒田\\t40.1\\t1978-08-03\\n', '岐阜県\\t美濃\\t40\\t2007-08-16\\n', '群馬県\\t前橋\\t40\\t2001-07-24\\n', '千葉県\\t茂原\\t39.9\\t2013-08-11\\n', '埼玉県\\t鳩山\\t39.9\\t1997-07-05\\n', '大阪府\\t豊中\\t39.9\\t1994-08-08\\n', '山梨県\\t大月\\t39.9\\t1990-07-19\\n', '山形県\\t鶴岡\\t39.9\\t1978-08-03\\n', '愛知県\\t名古屋\\t39.9\\t1942-08-02\\n']\n"
     ]
    }
   ],
   "source": [
    "with open('hightemp.txt') as fi:\n",
    "    lines = fi.readlines()\n",
    "print(lines)"
   ]
  },
  {
   "cell_type": "code",
   "execution_count": 34,
   "metadata": {},
   "outputs": [
    {
     "name": "stdout",
     "output_type": "stream",
     "text": [
      "total 160\r\n",
      "-rw-r--r--  1 dai.ohnishi  BRAINPAD\\Domain Users  16824 11 21 20:53 NLP_week1.ipynb\r\n",
      "-rw-r--r--  1 dai.ohnishi  BRAINPAD\\Domain Users    243 11  8 20:26 col1_py.txt\r\n",
      "-rw-r--r--  1 dai.ohnishi  BRAINPAD\\Domain Users    243 11  8 20:26 col1_un.txt\r\n",
      "-rw-r--r--  1 dai.ohnishi  BRAINPAD\\Domain Users    192 11  8 20:26 col2_py.txt\r\n",
      "-rw-r--r--  1 dai.ohnishi  BRAINPAD\\Domain Users    192 11  8 20:26 col2_un.txt\r\n",
      "-rwxr-xr-x  1 dai.ohnishi  BRAINPAD\\Domain Users    813 11  2 12:06 \u001b[31mhightemp.txt\u001b[m\u001b[m\r\n",
      "-rw-r--r--  1 dai.ohnishi  BRAINPAD\\Domain Users    276 11 21 20:54 hightemp_3.txt\r\n",
      "-rw-r--r--  1 dai.ohnishi  BRAINPAD\\Domain Users    271 11 21 20:55 hightemp_split_00_un.txt\r\n",
      "-rw-r--r--  1 dai.ohnishi  BRAINPAD\\Domain Users    271 11 21 20:55 hightemp_split_01_un.txt\r\n",
      "-rw-r--r--  1 dai.ohnishi  BRAINPAD\\Domain Users    271 11 21 20:55 hightemp_split_02_un.txt\r\n",
      "-rw-r--r--  1 dai.ohnishi  BRAINPAD\\Domain Users    277 11 21 20:55 hightemp_split_0_py.txt\r\n",
      "-rw-r--r--  1 dai.ohnishi  BRAINPAD\\Domain Users    276 11 21 20:55 hightemp_split_1_py.txt\r\n",
      "-rw-r--r--  1 dai.ohnishi  BRAINPAD\\Domain Users    276 11 21 20:55 hightemp_split_2_py.txt\r\n",
      "-rw-r--r--  1 dai.ohnishi  BRAINPAD\\Domain Users    435 11  8 20:47 merged_py.txt\r\n",
      "-rw-r--r--  1 dai.ohnishi  BRAINPAD\\Domain Users    435 11  8 20:47 merged_un.txt\r\n",
      "-rw-r--r--  1 dai.ohnishi  BRAINPAD\\Domain Users      6 11 21 20:27 xaa\r\n"
     ]
    }
   ],
   "source": [
    "!ls -l"
   ]
  },
  {
   "cell_type": "code",
   "execution_count": 35,
   "metadata": {},
   "outputs": [
    {
     "name": "stdout",
     "output_type": "stream",
     "text": [
      "高知県\t江川崎\t41\t2013-08-12\r\n",
      "埼玉県\t熊谷\t40.9\t2007-08-16\r\n",
      "岐阜県\t多治見\t40.9\t2007-08-16\r\n",
      "山形県\t山形\t40.8\t1933-07-25\r\n",
      "山梨県\t甲府\t40.7\t2013-08-10\r\n",
      "和歌山県\tかつらぎ\t40.6\t1994-08-08\r\n",
      "静岡県\t天竜\t40.6\t1994-08-04\r\n",
      "山梨県\t勝沼\t40.5\t2013-08-10\r\n"
     ]
    }
   ],
   "source": [
    "!cat hightemp_split_0_py.txt"
   ]
  },
  {
   "cell_type": "code",
   "execution_count": 36,
   "metadata": {},
   "outputs": [
    {
     "name": "stdout",
     "output_type": "stream",
     "text": [
      "高知県\t江川崎\t41\t2013-08-12\r\n",
      "埼玉県\t熊谷\t40.9\t2007-08-16\r\n",
      "岐阜県\t多治見\t40.9\t2007-08-16\r\n",
      "山形県\t山形\t40.8\t1933-07-25\r\n",
      "山梨県\t甲府\t40.7\t2013-08-10\r\n",
      "和歌山県\tかつらぎ\t40.6\t1994-08-08\r\n",
      "静岡県\t天竜\t40.6\t1994-08-04\r\n",
      "山梨県\t勝沼\t40.5\t2013-"
     ]
    }
   ],
   "source": [
    "!cat hightemp_split_00_un.txt"
   ]
  }
 ],
 "metadata": {
  "kernelspec": {
   "display_name": "Python 3",
   "language": "python",
   "name": "python3"
  },
  "language_info": {
   "codemirror_mode": {
    "name": "ipython",
    "version": 3
   },
   "file_extension": ".py",
   "mimetype": "text/x-python",
   "name": "python",
   "nbconvert_exporter": "python",
   "pygments_lexer": "ipython3",
   "version": "3.7.0"
  },
  "toc": {
   "base_numbering": 1,
   "nav_menu": {},
   "number_sections": false,
   "sideBar": true,
   "skip_h1_title": false,
   "title_cell": "Table of Contents",
   "title_sidebar": "Contents",
   "toc_cell": false,
   "toc_position": {},
   "toc_section_display": true,
   "toc_window_display": false
  }
 },
 "nbformat": 4,
 "nbformat_minor": 2
}
